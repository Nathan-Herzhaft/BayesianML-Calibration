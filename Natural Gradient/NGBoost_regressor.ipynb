{
  "cells": [
    {
      "cell_type": "code",
      "execution_count": 2,
      "metadata": {
        "id": "8oakEce6q2Tb"
      },
      "outputs": [],
      "source": [
        "import matplotlib.pyplot as plt\n",
        "from sklearn.model_selection import train_test_split\n",
        "import numpy as np\n",
        "from sklearn.tree import DecisionTreeRegressor\n",
        "import math\n",
        "from ngboost import NGBRegressor"
      ]
    },
    {
      "attachments": {},
      "cell_type": "markdown",
      "metadata": {
        "id": "0oyg0KChwDs8"
      },
      "source": [
        "## Génération des variables"
      ]
    },
    {
      "cell_type": "code",
      "execution_count": 3,
      "metadata": {
        "id": "kjzRwJ6SsTRY"
      },
      "outputs": [],
      "source": [
        "n_samples=10000\n",
        "µ = np.random.uniform(0,1,n_samples)\n",
        "sigma = np.random.uniform(0,1,n_samples)\n",
        "Parameters = np.stack([µ,sigma]).T\n",
        "y = np.array([np.random.normal(*p,size=1) + np.random.normal(0,0.02) for p in Parameters])"
      ]
    },
    {
      "attachments": {},
      "cell_type": "markdown",
      "metadata": {
        "id": "jBjzlvgPv_76"
      },
      "source": [
        "## Paramétrisation"
      ]
    },
    {
      "cell_type": "code",
      "execution_count": 4,
      "metadata": {
        "id": "mjD0KmsWvm3U"
      },
      "outputs": [],
      "source": [
        "X = np.stack([µ,sigma]).T\n",
        "\n",
        "X_train, X_test, y_train, y_test = train_test_split(X,y)"
      ]
    },
    {
      "attachments": {},
      "cell_type": "markdown",
      "metadata": {
        "id": "jG8zatCzwLmO"
      },
      "source": [
        "## Entraînement"
      ]
    },
    {
      "cell_type": "code",
      "execution_count": 5,
      "metadata": {
        "colab": {
          "base_uri": "https://localhost:8080/"
        },
        "id": "4EHawlSvtHR2",
        "outputId": "da159b67-124b-44c9-9250-288857ae4dab"
      },
      "outputs": [
        {
          "name": "stderr",
          "output_type": "stream",
          "text": [
            "c:\\Users\\natha\\Documents\\machine_learning\\lib\\site-packages\\sklearn\\utils\\validation.py:63: DataConversionWarning: A column-vector y was passed when a 1d array was expected. Please change the shape of y to (n_samples, ), for example using ravel().\n",
            "  return f(*args, **kwargs)\n",
            "c:\\Users\\natha\\Documents\\machine_learning\\lib\\site-packages\\sklearn\\utils\\validation.py:63: DataConversionWarning: A column-vector y was passed when a 1d array was expected. Please change the shape of y to (n_samples, ), for example using ravel().\n",
            "  return f(*args, **kwargs)\n"
          ]
        },
        {
          "name": "stdout",
          "output_type": "stream",
          "text": [
            "[iter 0] loss=0.9875 val_loss=0.9675 scale=0.5000 norm=0.8618\n",
            "[iter 100] loss=0.7262 val_loss=0.7286 scale=0.5000 norm=0.7481\n",
            "[iter 200] loss=0.5542 val_loss=0.5788 scale=0.5000 norm=0.9233\n",
            "[iter 300] loss=0.4938 val_loss=0.5340 scale=0.1250 norm=0.2689\n",
            "[iter 400] loss=0.4739 val_loss=0.5229 scale=0.1250 norm=0.2831\n"
          ]
        },
        {
          "name": "stderr",
          "output_type": "stream",
          "text": [
            "c:\\Users\\natha\\Documents\\machine_learning\\lib\\site-packages\\sklearn\\utils\\validation.py:63: DataConversionWarning: A column-vector y was passed when a 1d array was expected. Please change the shape of y to (n_samples, ), for example using ravel().\n",
            "  return f(*args, **kwargs)\n",
            "c:\\Users\\natha\\Documents\\machine_learning\\lib\\site-packages\\sklearn\\utils\\validation.py:63: DataConversionWarning: A column-vector y was passed when a 1d array was expected. Please change the shape of y to (n_samples, ), for example using ravel().\n",
            "  return f(*args, **kwargs)\n"
          ]
        },
        {
          "name": "stdout",
          "output_type": "stream",
          "text": [
            "[iter 0] loss=0.9875 val_loss=0.9636 scale=2.0000 norm=1.5878\n",
            "[iter 100] loss=0.6165 val_loss=0.6294 scale=2.0000 norm=1.3331\n",
            "[iter 200] loss=0.4891 val_loss=0.5256 scale=2.0000 norm=1.3347\n",
            "[iter 300] loss=0.4511 val_loss=0.5022 scale=1.0000 norm=0.6718\n",
            "[iter 400] loss=0.4400 val_loss=0.5003 scale=1.0000 norm=0.6745\n"
          ]
        }
      ],
      "source": [
        "def train_model(max_depth=3,n_estimators=500,ordinary_gradient=False,early_stopping_rounds=None) :\n",
        "    tree = DecisionTreeRegressor(criterion='friedman_mse', max_depth=max_depth)\n",
        "\n",
        "    if ordinary_gradient :\n",
        "        model = NGBRegressor(Base=tree,n_estimators=n_estimators,natural_gradient=False)\n",
        "    else :\n",
        "        model = NGBRegressor(Base=tree,n_estimators=n_estimators)\n",
        "\n",
        "    if early_stopping_rounds is not None :\n",
        "        model.fit(X_train,y_train,\n",
        "                  X_val=X_test,\n",
        "                  Y_val=y_test,\n",
        "                  early_stopping_rounds=early_stopping_rounds\n",
        "                )\n",
        "    else :\n",
        "        model.fit(X_train,y_train,\n",
        "                  X_val=X_test,\n",
        "                  Y_val=y_test\n",
        "                )\n",
        "    \n",
        "    return model\n",
        "\n",
        "model_0 = train_model(ordinary_gradient=True,n_estimators=500)\n",
        "model_1 = train_model(n_estimators=500)"
      ]
    },
    {
      "cell_type": "code",
      "execution_count": 6,
      "metadata": {
        "colab": {
          "base_uri": "https://localhost:8080/",
          "height": 696
        },
        "id": "GabHQiLttKxh",
        "outputId": "6c5e0551-60ec-4e80-acab-883b69373648"
      },
      "outputs": [
        {
          "data": {
            "image/png": "[encoded data removed]",
            "text/plain": [
              "<Figure size 576x576 with 1 Axes>"
            ]
          },
          "metadata": {
            "needs_background": "light"
          },
          "output_type": "display_data"
        }
      ],
      "source": [
        "def plot_training(model_ordinary_gradient, model_natural_gradient) :\n",
        "    val_0 = np.array(model_ordinary_gradient.evals_result['val']['LOGSCORE'])\n",
        "    train_0 = np.array(model_ordinary_gradient.evals_result['train']['LOGSCORE'])\n",
        "    val_1 = np.array(model_natural_gradient.evals_result['val']['LOGSCORE'])\n",
        "    train_1 = np.array(model_natural_gradient.evals_result['train']['LOGSCORE'])\n",
        "    fig, ax = plt.subplots(figsize = (8,8))\n",
        "    ax.plot(train_0,'--',color='blue',linewidth=0.7,label='ordinary gradient train loss')\n",
        "    ax.plot(val_0,color='blue',label='ordinary gradient val loss')\n",
        "    ax.scatter(val_0.argmin(),val_0.min(),color='blue',marker='D',linewidths=5)\n",
        "    ax.axvline(x=val_0.argmin(),color='grey',linewidth=0.5)\n",
        "    ax.axhline(y=val_0.min(),color='grey',linewidth=0.5)\n",
        "    ax.axvline(x=val_0.argmin(),color='grey',linewidth=0.5)\n",
        "    ax.plot(train_1,'--',color='red',linewidth=0.7,label='natural gradient train loss')\n",
        "    ax.plot(val_1,color='red',label='natural gradient val loss')\n",
        "    ax.scatter(val_1.argmin(),val_1.min(),color='red',marker='D',linewidths=5)\n",
        "    ax.axvline(x=val_1.argmin(),color='grey',linewidth=0.5)\n",
        "    ax.axhline(y=val_1.min(),color='grey',linewidth=0.5)\n",
        "    ax.set_xlabel('Iterations')\n",
        "    ax.set_ylabel('Log score')\n",
        "    ax.legend(loc='upper right')\n",
        "    plt.show()\n",
        "\n",
        "plot_training(model_0,model_1)"
      ]
    },
    {
      "cell_type": "code",
      "execution_count": 54,
      "metadata": {
        "id": "dGxilzKZtZx_"
      },
      "outputs": [],
      "source": []
    }
  ],
  "metadata": {
    "accelerator": "GPU",
    "colab": {
      "provenance": []
    },
    "gpuClass": "standard",
    "kernelspec": {
      "display_name": "Python 3",
      "name": "python3"
    },
    "language_info": {
      "codemirror_mode": {
        "name": "ipython",
        "version": 3
      },
      "file_extension": ".py",
      "mimetype": "text/x-python",
      "name": "python",
      "nbconvert_exporter": "python",
      "pygments_lexer": "ipython3",
      "version": "3.6.8"
    }
  },
  "nbformat": 4,
  "nbformat_minor": 0
}
